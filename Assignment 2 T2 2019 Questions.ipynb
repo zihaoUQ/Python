{
 "cells": [
  {
   "cell_type": "markdown",
   "metadata": {},
   "source": [
    "# Assignment 2"
   ]
  },
  {
   "cell_type": "code",
   "execution_count": 1,
   "metadata": {
    "scrolled": true
   },
   "outputs": [
    {
     "name": "stdout",
     "output_type": "stream",
     "text": [
      "Name:Weixiu Shao\n",
      "Student ID:s2825336\n"
     ]
    }
   ],
   "source": [
    "Name=input('Name:')\n",
    "ID=input('Student ID:')"
   ]
  },
  {
   "cell_type": "code",
   "execution_count": 2,
   "metadata": {},
   "outputs": [],
   "source": [
    "import pandas as pd\n",
    "import seaborn as sns\n",
    "import matplotlib.pyplot as plt\n",
    "%matplotlib inline\n",
    "sns.set()"
   ]
  },
  {
   "cell_type": "markdown",
   "metadata": {},
   "source": [
    "## Questions 1-5\n",
    "* Use data from **GF500_2015.xlsx** to do Questions 1-5. Note that, Revenues & Profits are in Millions (USD). Global Rank is done by Revenues."
   ]
  },
  {
   "cell_type": "code",
   "execution_count": 3,
   "metadata": {},
   "outputs": [
    {
     "data": {
      "text/html": [
       "<div>\n",
       "<style scoped>\n",
       "    .dataframe tbody tr th:only-of-type {\n",
       "        vertical-align: middle;\n",
       "    }\n",
       "\n",
       "    .dataframe tbody tr th {\n",
       "        vertical-align: top;\n",
       "    }\n",
       "\n",
       "    .dataframe thead th {\n",
       "        text-align: right;\n",
       "    }\n",
       "</style>\n",
       "<table border=\"1\" class=\"dataframe\">\n",
       "  <thead>\n",
       "    <tr style=\"text-align: right;\">\n",
       "      <th></th>\n",
       "      <th>Company Name</th>\n",
       "      <th>Sector</th>\n",
       "      <th>HQ Location</th>\n",
       "      <th>Revenues</th>\n",
       "      <th>Profits</th>\n",
       "      <th>Employees</th>\n",
       "    </tr>\n",
       "    <tr>\n",
       "      <th>Global Rank</th>\n",
       "      <th></th>\n",
       "      <th></th>\n",
       "      <th></th>\n",
       "      <th></th>\n",
       "      <th></th>\n",
       "      <th></th>\n",
       "    </tr>\n",
       "  </thead>\n",
       "  <tbody>\n",
       "    <tr>\n",
       "      <th>1</th>\n",
       "      <td>Walmart</td>\n",
       "      <td>Retailing</td>\n",
       "      <td>Bentonville, AR</td>\n",
       "      <td>485651</td>\n",
       "      <td>16363.0</td>\n",
       "      <td>2200000</td>\n",
       "    </tr>\n",
       "    <tr>\n",
       "      <th>2</th>\n",
       "      <td>Sinopec Group</td>\n",
       "      <td>Energy</td>\n",
       "      <td>Beijing, China</td>\n",
       "      <td>446811</td>\n",
       "      <td>5177.0</td>\n",
       "      <td>897488</td>\n",
       "    </tr>\n",
       "    <tr>\n",
       "      <th>3</th>\n",
       "      <td>Royal Dutch Shell</td>\n",
       "      <td>Energy</td>\n",
       "      <td>The Hague, Netherlands</td>\n",
       "      <td>431344</td>\n",
       "      <td>14874.0</td>\n",
       "      <td>94000</td>\n",
       "    </tr>\n",
       "    <tr>\n",
       "      <th>4</th>\n",
       "      <td>China National Petroleum</td>\n",
       "      <td>Energy</td>\n",
       "      <td>Beijing, China</td>\n",
       "      <td>428620</td>\n",
       "      <td>16359.0</td>\n",
       "      <td>1636532</td>\n",
       "    </tr>\n",
       "    <tr>\n",
       "      <th>5</th>\n",
       "      <td>Exxon Mobil</td>\n",
       "      <td>Energy</td>\n",
       "      <td>Irving, TX</td>\n",
       "      <td>382597</td>\n",
       "      <td>32520.0</td>\n",
       "      <td>83700</td>\n",
       "    </tr>\n",
       "  </tbody>\n",
       "</table>\n",
       "</div>"
      ],
      "text/plain": [
       "                         Company Name     Sector             HQ Location  \\\n",
       "Global Rank                                                                \n",
       "1                             Walmart  Retailing         Bentonville, AR   \n",
       "2                       Sinopec Group     Energy          Beijing, China   \n",
       "3                   Royal Dutch Shell     Energy  The Hague, Netherlands   \n",
       "4            China National Petroleum     Energy          Beijing, China   \n",
       "5                         Exxon Mobil     Energy              Irving, TX   \n",
       "\n",
       "             Revenues  Profits  Employees  \n",
       "Global Rank                                \n",
       "1              485651  16363.0    2200000  \n",
       "2              446811   5177.0     897488  \n",
       "3              431344  14874.0      94000  \n",
       "4              428620  16359.0    1636532  \n",
       "5              382597  32520.0      83700  "
      ]
     },
     "execution_count": 3,
     "metadata": {},
     "output_type": "execute_result"
    }
   ],
   "source": [
    "gf=pd.read_excel('GF500_2015.xlsx')\n",
    "gf=gf.set_index(\"Global Rank\")\n",
    "gf.head()"
   ]
  },
  {
   "cell_type": "code",
   "execution_count": 4,
   "metadata": {},
   "outputs": [
    {
     "name": "stdout",
     "output_type": "stream",
     "text": [
      "<class 'pandas.core.frame.DataFrame'>\n",
      "Int64Index: 500 entries, 1 to 500\n",
      "Data columns (total 6 columns):\n",
      "Company Name    500 non-null object\n",
      "Sector          500 non-null object\n",
      "HQ Location     500 non-null object\n",
      "Revenues        500 non-null int64\n",
      "Profits         500 non-null float64\n",
      "Employees       500 non-null int64\n",
      "dtypes: float64(1), int64(2), object(3)\n",
      "memory usage: 27.3+ KB\n"
     ]
    }
   ],
   "source": [
    "gf.info()"
   ]
  },
  {
   "cell_type": "markdown",
   "metadata": {},
   "source": [
    "### Q1: Find the number of GF500-companies in each Sector. How many sectors? (1 mark)"
   ]
  },
  {
   "cell_type": "code",
   "execution_count": 5,
   "metadata": {},
   "outputs": [
    {
     "data": {
      "text/plain": [
       "Sector\n",
       "Aerospace & Defense              11\n",
       "Apparel                           3\n",
       "Chemicals                         8\n",
       "Energy                          107\n",
       "Engineering & Construction       13\n",
       "Financials                      111\n",
       "Food & Drug Stores               20\n",
       "Food, Beverages & Tobacco        16\n",
       "Health Care                      23\n",
       "Hotels, Resturants & Leisure      5\n",
       "Household Products                2\n",
       "Industrials                      19\n",
       "Materials                        20\n",
       "Media                             4\n",
       "Motor Vehicles & Parts           34\n",
       "Retailing                        15\n",
       "Technology                       32\n",
       "Telecommunications               18\n",
       "Transportation                   20\n",
       "Wholesalers                      19\n",
       "Name: Company Name, dtype: int64"
      ]
     },
     "execution_count": 5,
     "metadata": {},
     "output_type": "execute_result"
    }
   ],
   "source": [
    "# output a pandas serie of counts of each sectors\n",
    "gf.groupby('Sector').count()['Company Name']"
   ]
  },
  {
   "cell_type": "code",
   "execution_count": 6,
   "metadata": {},
   "outputs": [
    {
     "data": {
      "text/plain": [
       "20"
      ]
     },
     "execution_count": 6,
     "metadata": {},
     "output_type": "execute_result"
    }
   ],
   "source": [
    "len(gf['Sector'].unique())\n",
    "# there are 20 unique sectors"
   ]
  },
  {
   "cell_type": "markdown",
   "metadata": {},
   "source": [
    "**Answer: There are 20 unique sectors**\n"
   ]
  },
  {
   "cell_type": "markdown",
   "metadata": {},
   "source": [
    "### Q2: Find the total number of employees of each sector. Make a bar plot (in one graph) of the total number by sector. (1 mark)"
   ]
  },
  {
   "cell_type": "code",
   "execution_count": 7,
   "metadata": {},
   "outputs": [
    {
     "data": {
      "text/plain": [
       "Sector\n",
       "Aerospace & Defense              1865669\n",
       "Apparel                           287029\n",
       "Chemicals                         569006\n",
       "Energy                          10962253\n",
       "Engineering & Construction       2307845\n",
       "Financials                      10226768\n",
       "Food & Drug Stores               3925956\n",
       "Food, Beverages & Tobacco        1959824\n",
       "Health Care                      1831347\n",
       "Hotels, Resturants & Leisure     1462920\n",
       "Household Products                196611\n",
       "Industrials                      2716805\n",
       "Materials                        2278490\n",
       "Media                             266158\n",
       "Motor Vehicles & Parts           5185211\n",
       "Retailing                        5497249\n",
       "Technology                       5481534\n",
       "Telecommunications               2891955\n",
       "Transportation                   4468942\n",
       "Wholesalers                      1022832\n",
       "Name: Employees, dtype: int64"
      ]
     },
     "execution_count": 7,
     "metadata": {},
     "output_type": "execute_result"
    }
   ],
   "source": [
    "# output a pandas serie of total counts of employees of each sector\n",
    "total_emp = gf.groupby('Sector').sum()['Employees']\n",
    "total_emp"
   ]
  },
  {
   "cell_type": "code",
   "execution_count": 8,
   "metadata": {},
   "outputs": [
    {
     "data": {
      "text/plain": [
       "<matplotlib.axes._subplots.AxesSubplot at 0x1a1d29ffd0>"
      ]
     },
     "execution_count": 8,
     "metadata": {},
     "output_type": "execute_result"
    },
    {
     "data": {
      "image/png": "[encoded data removed]",
      "text/plain": [
       "<Figure size 720x216 with 1 Axes>"
      ]
     },
     "metadata": {
      "needs_background": "light"
     },
     "output_type": "display_data"
    }
   ],
   "source": [
    "# plot the above serie\n",
    "total_emp.plot(kind='bar', title='total number of employees by sector', figsize=(10,3))"
   ]
  },
  {
   "cell_type": "markdown",
   "metadata": {},
   "source": [
    "### Q3: Obtain the scatterplot & linear fit of Profits (y-axis) against Revenues (x-axis) in one graph of the following sectors - Telecommunications, Energy and Transportation. Comment briefly on the relationship between Profits and Revenues as shown in the graph.(1 mark) "
   ]
  },
  {
   "cell_type": "code",
   "execution_count": 9,
   "metadata": {},
   "outputs": [],
   "source": [
    "# use .loc to filter the perform data frame selection\n",
    "temp_data = gf.loc[(gf[\"Sector\"] == 'Telecommunications') | (gf[\"Sector\"] == 'Energy') | (gf[\"Sector\"]=='Transportation'), :]"
   ]
  },
  {
   "cell_type": "code",
   "execution_count": 53,
   "metadata": {},
   "outputs": [
    {
     "data": {
      "text/plain": [
       "<seaborn.axisgrid.FacetGrid at 0x1a1e59b048>"
      ]
     },
     "execution_count": 53,
     "metadata": {},
     "output_type": "execute_result"
    },
    {
     "data": {
      "image/png": "[encoded data removed]",
      "text/plain": [
       "<Figure size 500.834x360 with 1 Axes>"
      ]
     },
     "metadata": {
      "needs_background": "light"
     },
     "output_type": "display_data"
    }
   ],
   "source": [
    "# plot the relationship between profits and revenues for three different sectors\n",
    "sns.lmplot(x='Profits', y='Revenues', data=temp_data, hue = 'Sector')"
   ]
  },
  {
   "cell_type": "markdown",
   "metadata": {},
   "source": [
    "**Comments: There is a fairly strong positive linear relationship between Profits and Revenues for both Energy and Telecommunications. There is a very weak or no linear relationship between Profits and Revenues for sector Transportation.**"
   ]
  },
  {
   "cell_type": "markdown",
   "metadata": {},
   "source": [
    "### Q4: Find the box plot of Profits in one graph of the following sectors - Technology, Telecommunications, Materials & Financials. Comment briefly on the results. (1 mark)"
   ]
  },
  {
   "cell_type": "code",
   "execution_count": 11,
   "metadata": {},
   "outputs": [],
   "source": [
    "# use .loc to filter the perform data frame selection\n",
    "temp_data2 = gf.loc[(gf[\"Sector\"] == 'Telecommunications') | (gf[\"Sector\"] == 'Technology') | (gf[\"Sector\"]=='Materials') | (gf[\"Sector\"]=='Financials'), :]"
   ]
  },
  {
   "cell_type": "code",
   "execution_count": 12,
   "metadata": {},
   "outputs": [
    {
     "data": {
      "text/plain": [
       "Text(0.5, 1.0, \"Boxplot For Different Sectors' Profits\")"
      ]
     },
     "execution_count": 12,
     "metadata": {},
     "output_type": "execute_result"
    },
    {
     "data": {
      "image/png": "[encoded data removed]",
      "text/plain": [
       "<Figure size 432x288 with 1 Axes>"
      ]
     },
     "metadata": {
      "needs_background": "light"
     },
     "output_type": "display_data"
    }
   ],
   "source": [
    "sns.boxplot(x=temp_data2['Sector'], y=temp_data2['Profits']).set_title(\"Boxplot For Different Sectors' Profits\")"
   ]
  },
  {
   "cell_type": "markdown",
   "metadata": {},
   "source": [
    "**Comments: From the boxplot, we can conclude that the IQR (Q3-Q1) for Technology is large and the IQR for Materials is small. There are 2 outliers for Technology profits. There are many outliers for Financials. The line in the box shows the median of the sector profit, and Telecommunications has the highest median.**"
   ]
  },
  {
   "cell_type": "markdown",
   "metadata": {},
   "source": [
    "### Q5: Find the top 15 cities & countries (in terms of firm numbers) hosting GF500 HQ's. (3 marks)\n",
    "This is a very challenging question. Apart from the following hints, no further tips will be provided. Attempt the answers by yourself. Good luck!\n",
    "* Hint 1: Split HQ Location by ', ' (, *space*) into city & country (see Topic 4 - E-commerce) & add them in gf as two new columns. \n",
    "* Hint 2: There's an issue about the country column: for **US** firms, only **states** are located (so, need to change CA, TX, NY, ..., to USA). The good news is that all US states are with length equal  to 2 & all other countries are with longer names. "
   ]
  },
  {
   "cell_type": "code",
   "execution_count": 13,
   "metadata": {},
   "outputs": [],
   "source": [
    "# split the location and use expand tab to make the output a data frame and add the result to the original data frame\n",
    "temp_data3 = gf['HQ Location'].str.split(', ',expand=True)\n",
    "#reset the index Global rank\n",
    "temp_data4 = temp_data3.reset_index()"
   ]
  },
  {
   "cell_type": "code",
   "execution_count": 14,
   "metadata": {},
   "outputs": [],
   "source": [
    "# create a list and loop through the column 1 with condition to generate a list of new country entry\n",
    "country_list = []\n",
    "for country in temp_data3[1]:\n",
    "    if len(country) == 2:\n",
    "        country = 'US'\n",
    "        country_list.append(country)\n",
    "    else:\n",
    "        country_list.append(country)\n"
   ]
  },
  {
   "cell_type": "code",
   "execution_count": 15,
   "metadata": {},
   "outputs": [],
   "source": [
    "# transfrom the newly created list to data frame and add it to the temp_data4\n",
    "temp_data4['country'] = pd.DataFrame(country_list)"
   ]
  },
  {
   "cell_type": "code",
   "execution_count": 16,
   "metadata": {},
   "outputs": [],
   "source": [
    "# drop the old 1 column from temp_data4 \n",
    "temp_data4 = temp_data4.drop(temp_data4.iloc[:,[2]],axis=1)\n"
   ]
  },
  {
   "cell_type": "code",
   "execution_count": 17,
   "metadata": {},
   "outputs": [
    {
     "data": {
      "text/html": [
       "<div>\n",
       "<style scoped>\n",
       "    .dataframe tbody tr th:only-of-type {\n",
       "        vertical-align: middle;\n",
       "    }\n",
       "\n",
       "    .dataframe tbody tr th {\n",
       "        vertical-align: top;\n",
       "    }\n",
       "\n",
       "    .dataframe thead th {\n",
       "        text-align: right;\n",
       "    }\n",
       "</style>\n",
       "<table border=\"1\" class=\"dataframe\">\n",
       "  <thead>\n",
       "    <tr style=\"text-align: right;\">\n",
       "      <th></th>\n",
       "      <th>Global Rank</th>\n",
       "      <th>city</th>\n",
       "      <th>country</th>\n",
       "    </tr>\n",
       "  </thead>\n",
       "  <tbody>\n",
       "    <tr>\n",
       "      <th>0</th>\n",
       "      <td>1</td>\n",
       "      <td>Bentonville</td>\n",
       "      <td>US</td>\n",
       "    </tr>\n",
       "    <tr>\n",
       "      <th>1</th>\n",
       "      <td>2</td>\n",
       "      <td>Beijing</td>\n",
       "      <td>China</td>\n",
       "    </tr>\n",
       "    <tr>\n",
       "      <th>2</th>\n",
       "      <td>3</td>\n",
       "      <td>The Hague</td>\n",
       "      <td>Netherlands</td>\n",
       "    </tr>\n",
       "    <tr>\n",
       "      <th>3</th>\n",
       "      <td>4</td>\n",
       "      <td>Beijing</td>\n",
       "      <td>China</td>\n",
       "    </tr>\n",
       "    <tr>\n",
       "      <th>4</th>\n",
       "      <td>5</td>\n",
       "      <td>Irving</td>\n",
       "      <td>US</td>\n",
       "    </tr>\n",
       "  </tbody>\n",
       "</table>\n",
       "</div>"
      ],
      "text/plain": [
       "   Global Rank         city      country\n",
       "0            1  Bentonville           US\n",
       "1            2      Beijing        China\n",
       "2            3    The Hague  Netherlands\n",
       "3            4      Beijing        China\n",
       "4            5       Irving           US"
      ]
     },
     "execution_count": 17,
     "metadata": {},
     "output_type": "execute_result"
    }
   ],
   "source": [
    "temp_data5 = temp_data4.rename(columns={'Global Rank':'Global Rank',0:'city', 'country':'country'})\n",
    "temp_data5.head()"
   ]
  },
  {
   "cell_type": "code",
   "execution_count": 18,
   "metadata": {},
   "outputs": [],
   "source": [
    "# set the index to Global Rank and add the temp_data5 to the orginal data frame\n",
    "temp_data6=temp_data5.set_index('Global Rank')\n",
    "new_gf = gf.join(temp_data6, on='Global Rank', lsuffix='a', rsuffix='b')"
   ]
  },
  {
   "cell_type": "code",
   "execution_count": 19,
   "metadata": {},
   "outputs": [
    {
     "data": {
      "text/html": [
       "<div>\n",
       "<style scoped>\n",
       "    .dataframe tbody tr th:only-of-type {\n",
       "        vertical-align: middle;\n",
       "    }\n",
       "\n",
       "    .dataframe tbody tr th {\n",
       "        vertical-align: top;\n",
       "    }\n",
       "\n",
       "    .dataframe thead th {\n",
       "        text-align: right;\n",
       "    }\n",
       "</style>\n",
       "<table border=\"1\" class=\"dataframe\">\n",
       "  <thead>\n",
       "    <tr style=\"text-align: right;\">\n",
       "      <th></th>\n",
       "      <th></th>\n",
       "      <th>Company Name</th>\n",
       "      <th>Sector</th>\n",
       "      <th>HQ Location</th>\n",
       "      <th>Revenues</th>\n",
       "      <th>Profits</th>\n",
       "      <th>Employees</th>\n",
       "    </tr>\n",
       "    <tr>\n",
       "      <th>city</th>\n",
       "      <th>country</th>\n",
       "      <th></th>\n",
       "      <th></th>\n",
       "      <th></th>\n",
       "      <th></th>\n",
       "      <th></th>\n",
       "      <th></th>\n",
       "    </tr>\n",
       "  </thead>\n",
       "  <tbody>\n",
       "    <tr>\n",
       "      <th>Beijing</th>\n",
       "      <th>China</th>\n",
       "      <td>51</td>\n",
       "      <td>51</td>\n",
       "      <td>51</td>\n",
       "      <td>51</td>\n",
       "      <td>51</td>\n",
       "      <td>51</td>\n",
       "    </tr>\n",
       "    <tr>\n",
       "      <th>Tokyo</th>\n",
       "      <th>Japan</th>\n",
       "      <td>38</td>\n",
       "      <td>38</td>\n",
       "      <td>38</td>\n",
       "      <td>38</td>\n",
       "      <td>38</td>\n",
       "      <td>38</td>\n",
       "    </tr>\n",
       "    <tr>\n",
       "      <th>London</th>\n",
       "      <th>Britain</th>\n",
       "      <td>19</td>\n",
       "      <td>19</td>\n",
       "      <td>19</td>\n",
       "      <td>19</td>\n",
       "      <td>19</td>\n",
       "      <td>19</td>\n",
       "    </tr>\n",
       "    <tr>\n",
       "      <th>Paris</th>\n",
       "      <th>France</th>\n",
       "      <td>18</td>\n",
       "      <td>18</td>\n",
       "      <td>18</td>\n",
       "      <td>18</td>\n",
       "      <td>18</td>\n",
       "      <td>18</td>\n",
       "    </tr>\n",
       "    <tr>\n",
       "      <th>New York</th>\n",
       "      <th>US</th>\n",
       "      <td>17</td>\n",
       "      <td>17</td>\n",
       "      <td>17</td>\n",
       "      <td>17</td>\n",
       "      <td>17</td>\n",
       "      <td>17</td>\n",
       "    </tr>\n",
       "    <tr>\n",
       "      <th>Seoul</th>\n",
       "      <th>South Korea</th>\n",
       "      <td>13</td>\n",
       "      <td>13</td>\n",
       "      <td>13</td>\n",
       "      <td>13</td>\n",
       "      <td>13</td>\n",
       "      <td>13</td>\n",
       "    </tr>\n",
       "    <tr>\n",
       "      <th>Houston</th>\n",
       "      <th>US</th>\n",
       "      <td>9</td>\n",
       "      <td>9</td>\n",
       "      <td>9</td>\n",
       "      <td>9</td>\n",
       "      <td>9</td>\n",
       "      <td>9</td>\n",
       "    </tr>\n",
       "    <tr>\n",
       "      <th>Osaka</th>\n",
       "      <th>Japan</th>\n",
       "      <td>8</td>\n",
       "      <td>8</td>\n",
       "      <td>8</td>\n",
       "      <td>8</td>\n",
       "      <td>8</td>\n",
       "      <td>8</td>\n",
       "    </tr>\n",
       "    <tr>\n",
       "      <th>Shanghai</th>\n",
       "      <th>China</th>\n",
       "      <td>8</td>\n",
       "      <td>8</td>\n",
       "      <td>8</td>\n",
       "      <td>8</td>\n",
       "      <td>8</td>\n",
       "      <td>8</td>\n",
       "    </tr>\n",
       "    <tr>\n",
       "      <th>Zurich</th>\n",
       "      <th>Switzerland</th>\n",
       "      <td>6</td>\n",
       "      <td>6</td>\n",
       "      <td>6</td>\n",
       "      <td>6</td>\n",
       "      <td>6</td>\n",
       "      <td>6</td>\n",
       "    </tr>\n",
       "    <tr>\n",
       "      <th>Toronto</th>\n",
       "      <th>Canada</th>\n",
       "      <td>6</td>\n",
       "      <td>6</td>\n",
       "      <td>6</td>\n",
       "      <td>6</td>\n",
       "      <td>6</td>\n",
       "      <td>6</td>\n",
       "    </tr>\n",
       "    <tr>\n",
       "      <th>Hong Kong</th>\n",
       "      <th>China</th>\n",
       "      <td>6</td>\n",
       "      <td>6</td>\n",
       "      <td>6</td>\n",
       "      <td>6</td>\n",
       "      <td>6</td>\n",
       "      <td>6</td>\n",
       "    </tr>\n",
       "    <tr>\n",
       "      <th>Mumbai</th>\n",
       "      <th>India</th>\n",
       "      <td>5</td>\n",
       "      <td>5</td>\n",
       "      <td>5</td>\n",
       "      <td>5</td>\n",
       "      <td>5</td>\n",
       "      <td>5</td>\n",
       "    </tr>\n",
       "    <tr>\n",
       "      <th>Madrid</th>\n",
       "      <th>Spain</th>\n",
       "      <td>5</td>\n",
       "      <td>5</td>\n",
       "      <td>5</td>\n",
       "      <td>5</td>\n",
       "      <td>5</td>\n",
       "      <td>5</td>\n",
       "    </tr>\n",
       "    <tr>\n",
       "      <th>Moscow</th>\n",
       "      <th>Russia</th>\n",
       "      <td>5</td>\n",
       "      <td>5</td>\n",
       "      <td>5</td>\n",
       "      <td>5</td>\n",
       "      <td>5</td>\n",
       "      <td>5</td>\n",
       "    </tr>\n",
       "  </tbody>\n",
       "</table>\n",
       "</div>"
      ],
      "text/plain": [
       "                       Company Name  Sector  HQ Location  Revenues  Profits  \\\n",
       "city      country                                                             \n",
       "Beijing   China                  51      51           51        51       51   \n",
       "Tokyo     Japan                  38      38           38        38       38   \n",
       "London    Britain                19      19           19        19       19   \n",
       "Paris     France                 18      18           18        18       18   \n",
       "New York  US                     17      17           17        17       17   \n",
       "Seoul     South Korea            13      13           13        13       13   \n",
       "Houston   US                      9       9            9         9        9   \n",
       "Osaka     Japan                   8       8            8         8        8   \n",
       "Shanghai  China                   8       8            8         8        8   \n",
       "Zurich    Switzerland             6       6            6         6        6   \n",
       "Toronto   Canada                  6       6            6         6        6   \n",
       "Hong Kong China                   6       6            6         6        6   \n",
       "Mumbai    India                   5       5            5         5        5   \n",
       "Madrid    Spain                   5       5            5         5        5   \n",
       "Moscow    Russia                  5       5            5         5        5   \n",
       "\n",
       "                       Employees  \n",
       "city      country                 \n",
       "Beijing   China               51  \n",
       "Tokyo     Japan               38  \n",
       "London    Britain             19  \n",
       "Paris     France              18  \n",
       "New York  US                  17  \n",
       "Seoul     South Korea         13  \n",
       "Houston   US                   9  \n",
       "Osaka     Japan                8  \n",
       "Shanghai  China                8  \n",
       "Zurich    Switzerland          6  \n",
       "Toronto   Canada               6  \n",
       "Hong Kong China                6  \n",
       "Mumbai    India                5  \n",
       "Madrid    Spain                5  \n",
       "Moscow    Russia               5  "
      ]
     },
     "execution_count": 19,
     "metadata": {},
     "output_type": "execute_result"
    }
   ],
   "source": [
    "# the final output \n",
    "# the top 15 cities and countries hosting GF500\n",
    "new_gf.groupby(['city', 'country']).count().sort_values('Company Name', ascending=False).head(15)"
   ]
  },
  {
   "cell_type": "markdown",
   "metadata": {},
   "source": [
    "## Questions 6-10\n",
    "* Use data from **returns.xlsx** to do Questions 6-10. \n",
    "* The dataset returns.xlsx contains 10 daily stock returns (in terms of percentage) from 2015 to 2017, including **Apple (AAPL), Amazon (AMZN), Cisco (CSCO), Dell (DELL), Facebook (FB), Google (GOOG), IBM (IBM), Intel (INTC), Microsoft (MSFT), Oracle (ORCL)**.\n",
    "* For example, on 05-January-2015, Apple's stock dropped by 2.817% (from the previous trading day)."
   ]
  },
  {
   "cell_type": "code",
   "execution_count": 20,
   "metadata": {},
   "outputs": [
    {
     "data": {
      "text/html": [
       "<div>\n",
       "<style scoped>\n",
       "    .dataframe tbody tr th:only-of-type {\n",
       "        vertical-align: middle;\n",
       "    }\n",
       "\n",
       "    .dataframe tbody tr th {\n",
       "        vertical-align: top;\n",
       "    }\n",
       "\n",
       "    .dataframe thead th {\n",
       "        text-align: right;\n",
       "    }\n",
       "</style>\n",
       "<table border=\"1\" class=\"dataframe\">\n",
       "  <thead>\n",
       "    <tr style=\"text-align: right;\">\n",
       "      <th></th>\n",
       "      <th>AAPL_R</th>\n",
       "      <th>AMZN_R</th>\n",
       "      <th>CSCO_R</th>\n",
       "      <th>EBAY_R</th>\n",
       "      <th>FB_R</th>\n",
       "      <th>GOOG_R</th>\n",
       "      <th>IBM_R</th>\n",
       "      <th>INTC_R</th>\n",
       "      <th>MSFT_R</th>\n",
       "      <th>ORCL_R</th>\n",
       "    </tr>\n",
       "    <tr>\n",
       "      <th>Date</th>\n",
       "      <th></th>\n",
       "      <th></th>\n",
       "      <th></th>\n",
       "      <th></th>\n",
       "      <th></th>\n",
       "      <th></th>\n",
       "      <th></th>\n",
       "      <th></th>\n",
       "      <th></th>\n",
       "      <th></th>\n",
       "    </tr>\n",
       "  </thead>\n",
       "  <tbody>\n",
       "    <tr>\n",
       "      <th>2015-01-05</th>\n",
       "      <td>-2.817159</td>\n",
       "      <td>-2.051731</td>\n",
       "      <td>-1.992032</td>\n",
       "      <td>-0.845045</td>\n",
       "      <td>-1.606119</td>\n",
       "      <td>-2.084564</td>\n",
       "      <td>-1.573491</td>\n",
       "      <td>-1.127613</td>\n",
       "      <td>-0.930282</td>\n",
       "      <td>-1.669298</td>\n",
       "    </tr>\n",
       "    <tr>\n",
       "      <th>2015-01-06</th>\n",
       "      <td>0.009412</td>\n",
       "      <td>-2.283332</td>\n",
       "      <td>-0.036955</td>\n",
       "      <td>-1.282856</td>\n",
       "      <td>-1.347325</td>\n",
       "      <td>-2.317707</td>\n",
       "      <td>-2.156605</td>\n",
       "      <td>-1.863700</td>\n",
       "      <td>-1.457097</td>\n",
       "      <td>-1.032347</td>\n",
       "    </tr>\n",
       "    <tr>\n",
       "      <th>2015-01-07</th>\n",
       "      <td>1.402221</td>\n",
       "      <td>1.059975</td>\n",
       "      <td>0.924214</td>\n",
       "      <td>-0.172664</td>\n",
       "      <td>0.000000</td>\n",
       "      <td>-0.171328</td>\n",
       "      <td>-0.653553</td>\n",
       "      <td>2.097506</td>\n",
       "      <td>1.270537</td>\n",
       "      <td>0.023180</td>\n",
       "    </tr>\n",
       "    <tr>\n",
       "      <th>2015-01-08</th>\n",
       "      <td>3.842227</td>\n",
       "      <td>0.683600</td>\n",
       "      <td>0.769231</td>\n",
       "      <td>2.703687</td>\n",
       "      <td>2.659225</td>\n",
       "      <td>0.315306</td>\n",
       "      <td>2.173492</td>\n",
       "      <td>1.860078</td>\n",
       "      <td>2.941813</td>\n",
       "      <td>0.602549</td>\n",
       "    </tr>\n",
       "    <tr>\n",
       "      <th>2015-01-09</th>\n",
       "      <td>0.107248</td>\n",
       "      <td>-1.174865</td>\n",
       "      <td>1.017812</td>\n",
       "      <td>-1.382734</td>\n",
       "      <td>-0.556444</td>\n",
       "      <td>-1.295058</td>\n",
       "      <td>0.435551</td>\n",
       "      <td>0.190788</td>\n",
       "      <td>-0.840513</td>\n",
       "      <td>-0.046072</td>\n",
       "    </tr>\n",
       "  </tbody>\n",
       "</table>\n",
       "</div>"
      ],
      "text/plain": [
       "              AAPL_R    AMZN_R    CSCO_R    EBAY_R      FB_R    GOOG_R  \\\n",
       "Date                                                                     \n",
       "2015-01-05 -2.817159 -2.051731 -1.992032 -0.845045 -1.606119 -2.084564   \n",
       "2015-01-06  0.009412 -2.283332 -0.036955 -1.282856 -1.347325 -2.317707   \n",
       "2015-01-07  1.402221  1.059975  0.924214 -0.172664  0.000000 -0.171328   \n",
       "2015-01-08  3.842227  0.683600  0.769231  2.703687  2.659225  0.315306   \n",
       "2015-01-09  0.107248 -1.174865  1.017812 -1.382734 -0.556444 -1.295058   \n",
       "\n",
       "               IBM_R    INTC_R    MSFT_R    ORCL_R  \n",
       "Date                                                \n",
       "2015-01-05 -1.573491 -1.127613 -0.930282 -1.669298  \n",
       "2015-01-06 -2.156605 -1.863700 -1.457097 -1.032347  \n",
       "2015-01-07 -0.653553  2.097506  1.270537  0.023180  \n",
       "2015-01-08  2.173492  1.860078  2.941813  0.602549  \n",
       "2015-01-09  0.435551  0.190788 -0.840513 -0.046072  "
      ]
     },
     "execution_count": 20,
     "metadata": {},
     "output_type": "execute_result"
    }
   ],
   "source": [
    "import datetime\n",
    "returns0=pd.read_excel('returns.xlsx')\n",
    "returns=returns0.iloc[1:,:]\n",
    "returns.loc['Date'] = pd.to_datetime(returns['Date'])\n",
    "returns=returns.set_index('Date')\n",
    "returns.head()"
   ]
  },
  {
   "cell_type": "markdown",
   "metadata": {},
   "source": [
    "### Q6: Use describe() to describe the 10 daily returns. Which company performs the best/worst in mean returns? Which company is the most/least volatile? Which company profits/loses the most in one day during 2015-2017? (1 mark)"
   ]
  },
  {
   "cell_type": "code",
   "execution_count": 21,
   "metadata": {},
   "outputs": [
    {
     "data": {
      "text/html": [
       "<div>\n",
       "<style scoped>\n",
       "    .dataframe tbody tr th:only-of-type {\n",
       "        vertical-align: middle;\n",
       "    }\n",
       "\n",
       "    .dataframe tbody tr th {\n",
       "        vertical-align: top;\n",
       "    }\n",
       "\n",
       "    .dataframe thead th {\n",
       "        text-align: right;\n",
       "    }\n",
       "</style>\n",
       "<table border=\"1\" class=\"dataframe\">\n",
       "  <thead>\n",
       "    <tr style=\"text-align: right;\">\n",
       "      <th></th>\n",
       "      <th>AAPL_R</th>\n",
       "      <th>AMZN_R</th>\n",
       "      <th>CSCO_R</th>\n",
       "      <th>EBAY_R</th>\n",
       "      <th>FB_R</th>\n",
       "      <th>GOOG_R</th>\n",
       "      <th>IBM_R</th>\n",
       "      <th>INTC_R</th>\n",
       "      <th>MSFT_R</th>\n",
       "      <th>ORCL_R</th>\n",
       "    </tr>\n",
       "  </thead>\n",
       "  <tbody>\n",
       "    <tr>\n",
       "      <th>count</th>\n",
       "      <td>753.000000</td>\n",
       "      <td>753.000000</td>\n",
       "      <td>753.000000</td>\n",
       "      <td>753.000000</td>\n",
       "      <td>753.000000</td>\n",
       "      <td>753.000000</td>\n",
       "      <td>753.000000</td>\n",
       "      <td>753.000000</td>\n",
       "      <td>753.000000</td>\n",
       "      <td>753.000000</td>\n",
       "    </tr>\n",
       "    <tr>\n",
       "      <th>mean</th>\n",
       "      <td>0.068463</td>\n",
       "      <td>0.192993</td>\n",
       "      <td>0.051830</td>\n",
       "      <td>-0.003441</td>\n",
       "      <td>0.119179</td>\n",
       "      <td>0.101488</td>\n",
       "      <td>-0.000023</td>\n",
       "      <td>0.041015</td>\n",
       "      <td>0.090318</td>\n",
       "      <td>0.016149</td>\n",
       "    </tr>\n",
       "    <tr>\n",
       "      <th>std</th>\n",
       "      <td>1.444991</td>\n",
       "      <td>1.803272</td>\n",
       "      <td>1.296094</td>\n",
       "      <td>2.637907</td>\n",
       "      <td>1.523982</td>\n",
       "      <td>1.414495</td>\n",
       "      <td>1.204253</td>\n",
       "      <td>1.364462</td>\n",
       "      <td>1.424117</td>\n",
       "      <td>1.232358</td>\n",
       "    </tr>\n",
       "    <tr>\n",
       "      <th>min</th>\n",
       "      <td>-6.570657</td>\n",
       "      <td>-7.609979</td>\n",
       "      <td>-7.242093</td>\n",
       "      <td>-56.901493</td>\n",
       "      <td>-5.810481</td>\n",
       "      <td>-5.317860</td>\n",
       "      <td>-5.859601</td>\n",
       "      <td>-9.102016</td>\n",
       "      <td>-9.253350</td>\n",
       "      <td>-7.671908</td>\n",
       "    </tr>\n",
       "    <tr>\n",
       "      <th>25%</th>\n",
       "      <td>-0.570426</td>\n",
       "      <td>-0.644914</td>\n",
       "      <td>-0.535591</td>\n",
       "      <td>-0.695866</td>\n",
       "      <td>-0.553185</td>\n",
       "      <td>-0.521019</td>\n",
       "      <td>-0.612539</td>\n",
       "      <td>-0.671716</td>\n",
       "      <td>-0.515975</td>\n",
       "      <td>-0.527373</td>\n",
       "    </tr>\n",
       "    <tr>\n",
       "      <th>50%</th>\n",
       "      <td>0.043818</td>\n",
       "      <td>0.104309</td>\n",
       "      <td>0.032765</td>\n",
       "      <td>0.049570</td>\n",
       "      <td>0.089206</td>\n",
       "      <td>0.056639</td>\n",
       "      <td>0.022751</td>\n",
       "      <td>0.075453</td>\n",
       "      <td>0.031128</td>\n",
       "      <td>0.024349</td>\n",
       "    </tr>\n",
       "    <tr>\n",
       "      <th>75%</th>\n",
       "      <td>0.797788</td>\n",
       "      <td>0.961005</td>\n",
       "      <td>0.727995</td>\n",
       "      <td>0.859700</td>\n",
       "      <td>0.969067</td>\n",
       "      <td>0.745723</td>\n",
       "      <td>0.616384</td>\n",
       "      <td>0.746511</td>\n",
       "      <td>0.711054</td>\n",
       "      <td>0.593066</td>\n",
       "    </tr>\n",
       "    <tr>\n",
       "      <th>max</th>\n",
       "      <td>6.496328</td>\n",
       "      <td>14.131132</td>\n",
       "      <td>9.640160</td>\n",
       "      <td>13.919868</td>\n",
       "      <td>15.521440</td>\n",
       "      <td>16.052427</td>\n",
       "      <td>8.864474</td>\n",
       "      <td>7.376058</td>\n",
       "      <td>10.452238</td>\n",
       "      <td>8.568962</td>\n",
       "    </tr>\n",
       "  </tbody>\n",
       "</table>\n",
       "</div>"
      ],
      "text/plain": [
       "           AAPL_R      AMZN_R      CSCO_R      EBAY_R        FB_R      GOOG_R  \\\n",
       "count  753.000000  753.000000  753.000000  753.000000  753.000000  753.000000   \n",
       "mean     0.068463    0.192993    0.051830   -0.003441    0.119179    0.101488   \n",
       "std      1.444991    1.803272    1.296094    2.637907    1.523982    1.414495   \n",
       "min     -6.570657   -7.609979   -7.242093  -56.901493   -5.810481   -5.317860   \n",
       "25%     -0.570426   -0.644914   -0.535591   -0.695866   -0.553185   -0.521019   \n",
       "50%      0.043818    0.104309    0.032765    0.049570    0.089206    0.056639   \n",
       "75%      0.797788    0.961005    0.727995    0.859700    0.969067    0.745723   \n",
       "max      6.496328   14.131132    9.640160   13.919868   15.521440   16.052427   \n",
       "\n",
       "            IBM_R      INTC_R      MSFT_R      ORCL_R  \n",
       "count  753.000000  753.000000  753.000000  753.000000  \n",
       "mean    -0.000023    0.041015    0.090318    0.016149  \n",
       "std      1.204253    1.364462    1.424117    1.232358  \n",
       "min     -5.859601   -9.102016   -9.253350   -7.671908  \n",
       "25%     -0.612539   -0.671716   -0.515975   -0.527373  \n",
       "50%      0.022751    0.075453    0.031128    0.024349  \n",
       "75%      0.616384    0.746511    0.711054    0.593066  \n",
       "max      8.864474    7.376058   10.452238    8.568962  "
      ]
     },
     "execution_count": 21,
     "metadata": {},
     "output_type": "execute_result"
    }
   ],
   "source": [
    "returns.describe()"
   ]
  },
  {
   "cell_type": "code",
   "execution_count": 22,
   "metadata": {},
   "outputs": [
    {
     "data": {
      "text/plain": [
       "0.1929932493105508"
      ]
     },
     "execution_count": 22,
     "metadata": {},
     "output_type": "execute_result"
    }
   ],
   "source": [
    "returns.mean().max()"
   ]
  },
  {
   "cell_type": "markdown",
   "metadata": {},
   "source": [
    "**Answer:\n",
    "Amazon has the highest mean returns**"
   ]
  },
  {
   "cell_type": "code",
   "execution_count": 23,
   "metadata": {},
   "outputs": [
    {
     "data": {
      "text/plain": [
       "-0.0034408884715439107"
      ]
     },
     "execution_count": 23,
     "metadata": {},
     "output_type": "execute_result"
    }
   ],
   "source": [
    "returns.mean().min()"
   ]
  },
  {
   "cell_type": "markdown",
   "metadata": {},
   "source": [
    "**Answer:\n",
    "According to the table, EBAY performs worst in mean returns**"
   ]
  },
  {
   "cell_type": "code",
   "execution_count": 24,
   "metadata": {},
   "outputs": [
    {
     "data": {
      "text/plain": [
       "2.6379073498292436"
      ]
     },
     "execution_count": 24,
     "metadata": {},
     "output_type": "execute_result"
    }
   ],
   "source": [
    "returns.std().max()"
   ]
  },
  {
   "cell_type": "markdown",
   "metadata": {},
   "source": [
    "**Answer: \n",
    "According to the table, Ebay has the highest standard deviation which means Ebay is the most Volatile firm**"
   ]
  },
  {
   "cell_type": "code",
   "execution_count": 25,
   "metadata": {},
   "outputs": [
    {
     "data": {
      "text/plain": [
       "1.204253499414627"
      ]
     },
     "execution_count": 25,
     "metadata": {},
     "output_type": "execute_result"
    }
   ],
   "source": [
    "returns.std().min()"
   ]
  },
  {
   "cell_type": "markdown",
   "metadata": {},
   "source": [
    "**Answer:\n",
    "IBM has the lowest standard deviation which means IBM is the most stable firm**"
   ]
  },
  {
   "cell_type": "code",
   "execution_count": 26,
   "metadata": {},
   "outputs": [
    {
     "data": {
      "text/plain": [
       "AAPL_R     6.496328\n",
       "AMZN_R    14.131132\n",
       "CSCO_R     9.640160\n",
       "EBAY_R    13.919868\n",
       "FB_R      15.521440\n",
       "GOOG_R    16.052427\n",
       "IBM_R      8.864474\n",
       "INTC_R     7.376058\n",
       "MSFT_R    10.452238\n",
       "ORCL_R     8.568962\n",
       "dtype: float64"
      ]
     },
     "execution_count": 26,
     "metadata": {},
     "output_type": "execute_result"
    }
   ],
   "source": [
    "returns.max()"
   ]
  },
  {
   "cell_type": "code",
   "execution_count": 27,
   "metadata": {},
   "outputs": [
    {
     "data": {
      "text/plain": [
       "AAPL_R    -6.570657\n",
       "AMZN_R    -7.609979\n",
       "CSCO_R    -7.242093\n",
       "EBAY_R   -56.901493\n",
       "FB_R      -5.810481\n",
       "GOOG_R    -5.317860\n",
       "IBM_R     -5.859601\n",
       "INTC_R    -9.102016\n",
       "MSFT_R    -9.253350\n",
       "ORCL_R    -7.671908\n",
       "dtype: float64"
      ]
     },
     "execution_count": 27,
     "metadata": {},
     "output_type": "execute_result"
    }
   ],
   "source": [
    "returns.min()"
   ]
  },
  {
   "cell_type": "markdown",
   "metadata": {},
   "source": [
    "**Answer:From the above result and also the describe table, we can see that google earns the most (16%) in one day, while Ebay lose the most in one day(-56.9%)**"
   ]
  },
  {
   "cell_type": "markdown",
   "metadata": {},
   "source": [
    "### Q7: Make a line plot of the following returns: GOOG, IBM & EBAY, in one graph. Find the best day (with the largest positive return) & the worst day (with the largest negative return) for each of the 3 firms. (2 marks)"
   ]
  },
  {
   "cell_type": "code",
   "execution_count": 28,
   "metadata": {},
   "outputs": [
    {
     "data": {
      "text/html": [
       "<div>\n",
       "<style scoped>\n",
       "    .dataframe tbody tr th:only-of-type {\n",
       "        vertical-align: middle;\n",
       "    }\n",
       "\n",
       "    .dataframe tbody tr th {\n",
       "        vertical-align: top;\n",
       "    }\n",
       "\n",
       "    .dataframe thead th {\n",
       "        text-align: right;\n",
       "    }\n",
       "</style>\n",
       "<table border=\"1\" class=\"dataframe\">\n",
       "  <thead>\n",
       "    <tr style=\"text-align: right;\">\n",
       "      <th></th>\n",
       "      <th>AAPL_R</th>\n",
       "      <th>AMZN_R</th>\n",
       "      <th>CSCO_R</th>\n",
       "      <th>EBAY_R</th>\n",
       "      <th>FB_R</th>\n",
       "      <th>GOOG_R</th>\n",
       "      <th>IBM_R</th>\n",
       "      <th>INTC_R</th>\n",
       "      <th>MSFT_R</th>\n",
       "      <th>ORCL_R</th>\n",
       "    </tr>\n",
       "    <tr>\n",
       "      <th>Date</th>\n",
       "      <th></th>\n",
       "      <th></th>\n",
       "      <th></th>\n",
       "      <th></th>\n",
       "      <th></th>\n",
       "      <th></th>\n",
       "      <th></th>\n",
       "      <th></th>\n",
       "      <th></th>\n",
       "      <th></th>\n",
       "    </tr>\n",
       "  </thead>\n",
       "  <tbody>\n",
       "    <tr>\n",
       "      <th>2015-01-05</th>\n",
       "      <td>-2.817159</td>\n",
       "      <td>-2.051731</td>\n",
       "      <td>-1.992032</td>\n",
       "      <td>-0.845045</td>\n",
       "      <td>-1.606119</td>\n",
       "      <td>-2.084564</td>\n",
       "      <td>-1.573491</td>\n",
       "      <td>-1.127613</td>\n",
       "      <td>-0.930282</td>\n",
       "      <td>-1.669298</td>\n",
       "    </tr>\n",
       "    <tr>\n",
       "      <th>2015-01-06</th>\n",
       "      <td>0.009412</td>\n",
       "      <td>-2.283332</td>\n",
       "      <td>-0.036955</td>\n",
       "      <td>-1.282856</td>\n",
       "      <td>-1.347325</td>\n",
       "      <td>-2.317707</td>\n",
       "      <td>-2.156605</td>\n",
       "      <td>-1.863700</td>\n",
       "      <td>-1.457097</td>\n",
       "      <td>-1.032347</td>\n",
       "    </tr>\n",
       "    <tr>\n",
       "      <th>2015-01-07</th>\n",
       "      <td>1.402221</td>\n",
       "      <td>1.059975</td>\n",
       "      <td>0.924214</td>\n",
       "      <td>-0.172664</td>\n",
       "      <td>0.000000</td>\n",
       "      <td>-0.171328</td>\n",
       "      <td>-0.653553</td>\n",
       "      <td>2.097506</td>\n",
       "      <td>1.270537</td>\n",
       "      <td>0.023180</td>\n",
       "    </tr>\n",
       "    <tr>\n",
       "      <th>2015-01-08</th>\n",
       "      <td>3.842227</td>\n",
       "      <td>0.683600</td>\n",
       "      <td>0.769231</td>\n",
       "      <td>2.703687</td>\n",
       "      <td>2.659225</td>\n",
       "      <td>0.315306</td>\n",
       "      <td>2.173492</td>\n",
       "      <td>1.860078</td>\n",
       "      <td>2.941813</td>\n",
       "      <td>0.602549</td>\n",
       "    </tr>\n",
       "    <tr>\n",
       "      <th>2015-01-09</th>\n",
       "      <td>0.107248</td>\n",
       "      <td>-1.174865</td>\n",
       "      <td>1.017812</td>\n",
       "      <td>-1.382734</td>\n",
       "      <td>-0.556444</td>\n",
       "      <td>-1.295058</td>\n",
       "      <td>0.435551</td>\n",
       "      <td>0.190788</td>\n",
       "      <td>-0.840513</td>\n",
       "      <td>-0.046072</td>\n",
       "    </tr>\n",
       "  </tbody>\n",
       "</table>\n",
       "</div>"
      ],
      "text/plain": [
       "              AAPL_R    AMZN_R    CSCO_R    EBAY_R      FB_R    GOOG_R  \\\n",
       "Date                                                                     \n",
       "2015-01-05 -2.817159 -2.051731 -1.992032 -0.845045 -1.606119 -2.084564   \n",
       "2015-01-06  0.009412 -2.283332 -0.036955 -1.282856 -1.347325 -2.317707   \n",
       "2015-01-07  1.402221  1.059975  0.924214 -0.172664  0.000000 -0.171328   \n",
       "2015-01-08  3.842227  0.683600  0.769231  2.703687  2.659225  0.315306   \n",
       "2015-01-09  0.107248 -1.174865  1.017812 -1.382734 -0.556444 -1.295058   \n",
       "\n",
       "               IBM_R    INTC_R    MSFT_R    ORCL_R  \n",
       "Date                                                \n",
       "2015-01-05 -1.573491 -1.127613 -0.930282 -1.669298  \n",
       "2015-01-06 -2.156605 -1.863700 -1.457097 -1.032347  \n",
       "2015-01-07 -0.653553  2.097506  1.270537  0.023180  \n",
       "2015-01-08  2.173492  1.860078  2.941813  0.602549  \n",
       "2015-01-09  0.435551  0.190788 -0.840513 -0.046072  "
      ]
     },
     "execution_count": 28,
     "metadata": {},
     "output_type": "execute_result"
    }
   ],
   "source": [
    "returns.head()"
   ]
  },
  {
   "cell_type": "code",
   "execution_count": 29,
   "metadata": {},
   "outputs": [
    {
     "data": {
      "text/plain": [
       "Text(0.5, 1.0, 'Returns of Google, IBM, and Ebay')"
      ]
     },
     "execution_count": 29,
     "metadata": {},
     "output_type": "execute_result"
    },
    {
     "data": {
      "image/png": "[encoded data removed]",
      "text/plain": [
       "<Figure size 1080x720 with 1 Axes>"
      ]
     },
     "metadata": {
      "needs_background": "light"
     },
     "output_type": "display_data"
    }
   ],
   "source": [
    "returns.plot(y=['GOOG_R', 'IBM_R', 'EBAY_R'], kind='line', figsize=(15,10))\n",
    "plt.title('Returns of Google, IBM, and Ebay')"
   ]
  },
  {
   "cell_type": "code",
   "execution_count": 30,
   "metadata": {},
   "outputs": [
    {
     "data": {
      "text/plain": [
       "AAPL_R   2016-07-27\n",
       "AMZN_R   2015-04-24\n",
       "CSCO_R   2016-02-11\n",
       "EBAY_R   2015-10-22\n",
       "FB_R     2016-01-28\n",
       "GOOG_R   2015-07-17\n",
       "IBM_R    2017-10-18\n",
       "INTC_R   2017-10-27\n",
       "MSFT_R   2015-04-24\n",
       "ORCL_R   2017-06-22\n",
       "dtype: datetime64[ns]"
      ]
     },
     "execution_count": 30,
     "metadata": {},
     "output_type": "execute_result"
    }
   ],
   "source": [
    "returns.idxmax()"
   ]
  },
  {
   "cell_type": "code",
   "execution_count": 31,
   "metadata": {},
   "outputs": [
    {
     "data": {
      "text/plain": [
       "AAPL_R   2016-01-27\n",
       "AMZN_R   2016-01-29\n",
       "CSCO_R   2017-05-18\n",
       "EBAY_R   2015-07-20\n",
       "FB_R     2016-02-05\n",
       "GOOG_R   2016-04-22\n",
       "IBM_R    2015-07-21\n",
       "INTC_R   2016-01-15\n",
       "MSFT_R   2015-01-27\n",
       "ORCL_R   2017-09-15\n",
       "dtype: datetime64[ns]"
      ]
     },
     "execution_count": 31,
     "metadata": {},
     "output_type": "execute_result"
    }
   ],
   "source": [
    "returns.idxmin()"
   ]
  },
  {
   "cell_type": "markdown",
   "metadata": {},
   "source": [
    "**Answer:\n",
    "The largest return date for google is 2015-07-17. The worst date for google is 2016-04-22.\n",
    "The best day for IBM is 2017-10-18. The worst day for IBM is 2015-07-21.\n",
    "The best day for Ebay is 2015-10-22. The worst day for Ebay is 2015-07-20.**"
   ]
  },
  {
   "cell_type": "markdown",
   "metadata": {},
   "source": [
    "### Q8: Find the most right-skewed, left-skewed & least-skewed firms. Get the histogram of these firms in separate plots. Comment on whether the plots agree the skewness measures. (1 mark)"
   ]
  },
  {
   "cell_type": "code",
   "execution_count": 32,
   "metadata": {},
   "outputs": [
    {
     "data": {
      "text/plain": [
       "AAPL_R    -0.012260\n",
       "AMZN_R     1.929355\n",
       "CSCO_R     0.476814\n",
       "EBAY_R   -13.331531\n",
       "FB_R       1.174783\n",
       "GOOG_R     2.148020\n",
       "IBM_R     -0.103694\n",
       "INTC_R    -0.217430\n",
       "MSFT_R     0.541799\n",
       "ORCL_R    -0.079193\n",
       "dtype: float64"
      ]
     },
     "execution_count": 32,
     "metadata": {},
     "output_type": "execute_result"
    }
   ],
   "source": [
    "returns.skew()"
   ]
  },
  {
   "cell_type": "code",
   "execution_count": 33,
   "metadata": {},
   "outputs": [
    {
     "data": {
      "text/plain": [
       "'GOOG_R'"
      ]
     },
     "execution_count": 33,
     "metadata": {},
     "output_type": "execute_result"
    }
   ],
   "source": [
    "# find the most right-skewed firm\n",
    "returns.skew().idxmax()"
   ]
  },
  {
   "cell_type": "code",
   "execution_count": 34,
   "metadata": {},
   "outputs": [
    {
     "data": {
      "text/plain": [
       "'EBAY_R'"
      ]
     },
     "execution_count": 34,
     "metadata": {},
     "output_type": "execute_result"
    }
   ],
   "source": [
    "# find the most left-skewed firm\n",
    "returns.skew().idxmin()"
   ]
  },
  {
   "cell_type": "code",
   "execution_count": 35,
   "metadata": {},
   "outputs": [
    {
     "data": {
      "text/plain": [
       "'AAPL_R'"
      ]
     },
     "execution_count": 35,
     "metadata": {},
     "output_type": "execute_result"
    }
   ],
   "source": [
    "# find the least-skew firm\n",
    "returns.skew().abs().idxmin()"
   ]
  },
  {
   "cell_type": "code",
   "execution_count": 36,
   "metadata": {},
   "outputs": [
    {
     "data": {
      "text/plain": [
       "<matplotlib.axes._subplots.AxesSubplot at 0x1a1df32748>"
      ]
     },
     "execution_count": 36,
     "metadata": {},
     "output_type": "execute_result"
    },
    {
     "data": {
      "image/png": "[encoded data removed]",
      "text/plain": [
       "<Figure size 432x288 with 1 Axes>"
      ]
     },
     "metadata": {
      "needs_background": "light"
     },
     "output_type": "display_data"
    }
   ],
   "source": [
    "# histogram of Google\n",
    "returns['GOOG_R'].plot(kind='hist',bins=100)"
   ]
  },
  {
   "cell_type": "code",
   "execution_count": 54,
   "metadata": {},
   "outputs": [
    {
     "data": {
      "text/plain": [
       "<matplotlib.axes._subplots.AxesSubplot at 0x1a1ec0e908>"
      ]
     },
     "execution_count": 54,
     "metadata": {},
     "output_type": "execute_result"
    },
    {
     "data": {
      "image/png": "[encoded data removed]",
      "text/plain": [
       "<Figure size 432x288 with 1 Axes>"
      ]
     },
     "metadata": {
      "needs_background": "light"
     },
     "output_type": "display_data"
    }
   ],
   "source": [
    "# histogram of Google using sns\n",
    "sns.distplot(returns['GOOG_R'],bins=100,color='darkblue')"
   ]
  },
  {
   "cell_type": "code",
   "execution_count": 38,
   "metadata": {},
   "outputs": [
    {
     "data": {
      "text/plain": [
       "<matplotlib.axes._subplots.AxesSubplot at 0x1a1e3da208>"
      ]
     },
     "execution_count": 38,
     "metadata": {},
     "output_type": "execute_result"
    },
    {
     "data": {
      "image/png": "[encoded data removed]",
      "text/plain": [
       "<Figure size 432x288 with 1 Axes>"
      ]
     },
     "metadata": {
      "needs_background": "light"
     },
     "output_type": "display_data"
    }
   ],
   "source": [
    "# histogram of Ebay\n",
    "returns['EBAY_R'].plot(kind='hist',bins=100)"
   ]
  },
  {
   "cell_type": "code",
   "execution_count": 39,
   "metadata": {},
   "outputs": [
    {
     "data": {
      "text/plain": [
       "<matplotlib.axes._subplots.AxesSubplot at 0x1a1e17a828>"
      ]
     },
     "execution_count": 39,
     "metadata": {},
     "output_type": "execute_result"
    },
    {
     "data": {
      "image/png": "[encoded data removed]",
      "text/plain": [
       "<Figure size 432x288 with 1 Axes>"
      ]
     },
     "metadata": {
      "needs_background": "light"
     },
     "output_type": "display_data"
    }
   ],
   "source": [
    "# histogram of Ebay using sns\n",
    "sns.distplot(returns['EBAY_R'],bins=100,color='darkblue')"
   ]
  },
  {
   "cell_type": "code",
   "execution_count": 40,
   "metadata": {},
   "outputs": [
    {
     "data": {
      "text/plain": [
       "<matplotlib.axes._subplots.AxesSubplot at 0x1a1e766b00>"
      ]
     },
     "execution_count": 40,
     "metadata": {},
     "output_type": "execute_result"
    },
    {
     "data": {
      "image/png": "[encoded data removed]",
      "text/plain": [
       "<Figure size 432x288 with 1 Axes>"
      ]
     },
     "metadata": {
      "needs_background": "light"
     },
     "output_type": "display_data"
    }
   ],
   "source": [
    "# histogram of Apple\n",
    "returns['AAPL_R'].plot(kind='hist',bins=100)"
   ]
  },
  {
   "cell_type": "code",
   "execution_count": 41,
   "metadata": {},
   "outputs": [
    {
     "data": {
      "text/plain": [
       "<matplotlib.axes._subplots.AxesSubplot at 0x1a1e8abeb8>"
      ]
     },
     "execution_count": 41,
     "metadata": {},
     "output_type": "execute_result"
    },
    {
     "data": {
      "image/png": "[encoded data removed]",
      "text/plain": [
       "<Figure size 432x288 with 1 Axes>"
      ]
     },
     "metadata": {
      "needs_background": "light"
     },
     "output_type": "display_data"
    }
   ],
   "source": [
    "# histogram of Apple using sns\n",
    "sns.distplot(returns['AAPL_R'],bins=100,color='darkblue')"
   ]
  },
  {
   "cell_type": "markdown",
   "metadata": {},
   "source": [
    "**Comments: The most right-skewed firm is Google. The most left-skewed firm is Ebay. The least skewed firm is Apple.  The Histogram of Google has long right tail. The Histogram of Ebay has long left tail. The histogram of Apple dont have clear direction of skewness on either side. The histograms of the three firms support this conclusion.**\n"
   ]
  },
  {
   "cell_type": "markdown",
   "metadata": {},
   "source": [
    "### Q9: Find the number of outliers of Apple (AAPL) during 2015-2017. Do the same for Facebook (FB).(3 marks)\n",
    "* This question is somewhat challenging.\n",
    "* Hint: A convenient definition of an outlier is a point which falls more than 1.5 times the interquartile range above the third quartile or below the first quartile."
   ]
  },
  {
   "cell_type": "code",
   "execution_count": 42,
   "metadata": {},
   "outputs": [
    {
     "data": {
      "text/plain": [
       "2.850109212003027"
      ]
     },
     "execution_count": 42,
     "metadata": {},
     "output_type": "execute_result"
    }
   ],
   "source": [
    "# calculate the 1.5 * IQR + Q3\n",
    "upper_bound = returns['AAPL_R'].quantile(0.75) + (returns['AAPL_R'].quantile(0.75) - returns['AAPL_R'].quantile(0.25)) * 1.5\n",
    "upper_bound"
   ]
  },
  {
   "cell_type": "code",
   "execution_count": 43,
   "metadata": {},
   "outputs": [
    {
     "data": {
      "text/plain": [
       "-2.622746527640618"
      ]
     },
     "execution_count": 43,
     "metadata": {},
     "output_type": "execute_result"
    }
   ],
   "source": [
    "# calculate the Q1 - 1.5 * IQR\n",
    "lower_bound = returns['AAPL_R'].quantile(0.25) - (returns['AAPL_R'].quantile(0.75) - returns['AAPL_R'].quantile(0.25))* 1.5\n",
    "lower_bound"
   ]
  },
  {
   "cell_type": "code",
   "execution_count": 44,
   "metadata": {},
   "outputs": [
    {
     "data": {
      "text/plain": [
       "AAPL_R    23\n",
       "AMZN_R    23\n",
       "CSCO_R    23\n",
       "EBAY_R    23\n",
       "FB_R      23\n",
       "GOOG_R    23\n",
       "IBM_R     23\n",
       "INTC_R    23\n",
       "MSFT_R    23\n",
       "ORCL_R    23\n",
       "dtype: int64"
      ]
     },
     "execution_count": 44,
     "metadata": {},
     "output_type": "execute_result"
    }
   ],
   "source": [
    "returns[returns['AAPL_R']>upper_bound].count()"
   ]
  },
  {
   "cell_type": "code",
   "execution_count": 45,
   "metadata": {},
   "outputs": [
    {
     "data": {
      "text/plain": [
       "AAPL_R    24\n",
       "AMZN_R    24\n",
       "CSCO_R    24\n",
       "EBAY_R    24\n",
       "FB_R      24\n",
       "GOOG_R    24\n",
       "IBM_R     24\n",
       "INTC_R    24\n",
       "MSFT_R    24\n",
       "ORCL_R    24\n",
       "dtype: int64"
      ]
     },
     "execution_count": 45,
     "metadata": {},
     "output_type": "execute_result"
    }
   ],
   "source": [
    "returns[returns['AAPL_R']<lower_bound].count()"
   ]
  },
  {
   "cell_type": "markdown",
   "metadata": {},
   "source": [
    "**Answer: There are totally 23 + 24 = 47 outliers for APPLE.**"
   ]
  },
  {
   "cell_type": "code",
   "execution_count": 46,
   "metadata": {},
   "outputs": [
    {
     "data": {
      "text/plain": [
       "3.252445569475432"
      ]
     },
     "execution_count": 46,
     "metadata": {},
     "output_type": "execute_result"
    }
   ],
   "source": [
    "# calculate the 1.5 * IQR + Q3\n",
    "upper_bound = returns['FB_R'].quantile(0.75) + (returns['FB_R'].quantile(0.75) - returns['FB_R'].quantile(0.25)) * 1.5\n",
    "upper_bound"
   ]
  },
  {
   "cell_type": "code",
   "execution_count": 47,
   "metadata": {},
   "outputs": [
    {
     "data": {
      "text/plain": [
       "-2.836562963622985"
      ]
     },
     "execution_count": 47,
     "metadata": {},
     "output_type": "execute_result"
    }
   ],
   "source": [
    "# calculate the Q1 - 1.5 * IQR\n",
    "lower_bound = returns['FB_R'].quantile(0.25) - (returns['FB_R'].quantile(0.75) - returns['FB_R'].quantile(0.25))* 1.5\n",
    "lower_bound"
   ]
  },
  {
   "cell_type": "code",
   "execution_count": 48,
   "metadata": {},
   "outputs": [
    {
     "data": {
      "text/plain": [
       "AAPL_R    14\n",
       "AMZN_R    14\n",
       "CSCO_R    14\n",
       "EBAY_R    14\n",
       "FB_R      14\n",
       "GOOG_R    14\n",
       "IBM_R     14\n",
       "INTC_R    14\n",
       "MSFT_R    14\n",
       "ORCL_R    14\n",
       "dtype: int64"
      ]
     },
     "execution_count": 48,
     "metadata": {},
     "output_type": "execute_result"
    }
   ],
   "source": [
    "returns[returns['FB_R']>upper_bound].count()"
   ]
  },
  {
   "cell_type": "code",
   "execution_count": 49,
   "metadata": {},
   "outputs": [
    {
     "data": {
      "text/plain": [
       "AAPL_R    22\n",
       "AMZN_R    22\n",
       "CSCO_R    22\n",
       "EBAY_R    22\n",
       "FB_R      22\n",
       "GOOG_R    22\n",
       "IBM_R     22\n",
       "INTC_R    22\n",
       "MSFT_R    22\n",
       "ORCL_R    22\n",
       "dtype: int64"
      ]
     },
     "execution_count": 49,
     "metadata": {},
     "output_type": "execute_result"
    }
   ],
   "source": [
    "returns[returns['FB_R']<lower_bound].count()"
   ]
  },
  {
   "cell_type": "markdown",
   "metadata": {},
   "source": [
    "**There are totally 14+22 = 36 outliers for Facebook**"
   ]
  },
  {
   "cell_type": "markdown",
   "metadata": {},
   "source": [
    "### Q10: Compute the pairwise correlation among the 10 returns. Plot the heatmap based on these correlations. Which firm tends to be most positively correlated with others?(1 mark)"
   ]
  },
  {
   "cell_type": "code",
   "execution_count": 50,
   "metadata": {},
   "outputs": [],
   "source": [
    "returns_correlation=returns.corr()"
   ]
  },
  {
   "cell_type": "code",
   "execution_count": 51,
   "metadata": {},
   "outputs": [
    {
     "data": {
      "text/html": [
       "<div>\n",
       "<style scoped>\n",
       "    .dataframe tbody tr th:only-of-type {\n",
       "        vertical-align: middle;\n",
       "    }\n",
       "\n",
       "    .dataframe tbody tr th {\n",
       "        vertical-align: top;\n",
       "    }\n",
       "\n",
       "    .dataframe thead th {\n",
       "        text-align: right;\n",
       "    }\n",
       "</style>\n",
       "<table border=\"1\" class=\"dataframe\">\n",
       "  <thead>\n",
       "    <tr style=\"text-align: right;\">\n",
       "      <th></th>\n",
       "      <th>AAPL_R</th>\n",
       "      <th>AMZN_R</th>\n",
       "      <th>CSCO_R</th>\n",
       "      <th>EBAY_R</th>\n",
       "      <th>FB_R</th>\n",
       "      <th>GOOG_R</th>\n",
       "      <th>IBM_R</th>\n",
       "      <th>INTC_R</th>\n",
       "      <th>MSFT_R</th>\n",
       "      <th>ORCL_R</th>\n",
       "    </tr>\n",
       "  </thead>\n",
       "  <tbody>\n",
       "    <tr>\n",
       "      <th>AAPL_R</th>\n",
       "      <td>1.000000</td>\n",
       "      <td>0.384333</td>\n",
       "      <td>0.416367</td>\n",
       "      <td>0.176198</td>\n",
       "      <td>0.465836</td>\n",
       "      <td>0.421804</td>\n",
       "      <td>0.321409</td>\n",
       "      <td>0.425079</td>\n",
       "      <td>0.495491</td>\n",
       "      <td>0.392465</td>\n",
       "    </tr>\n",
       "    <tr>\n",
       "      <th>AMZN_R</th>\n",
       "      <td>0.384333</td>\n",
       "      <td>1.000000</td>\n",
       "      <td>0.309090</td>\n",
       "      <td>0.148414</td>\n",
       "      <td>0.559301</td>\n",
       "      <td>0.599161</td>\n",
       "      <td>0.232046</td>\n",
       "      <td>0.303422</td>\n",
       "      <td>0.528767</td>\n",
       "      <td>0.297432</td>\n",
       "    </tr>\n",
       "    <tr>\n",
       "      <th>CSCO_R</th>\n",
       "      <td>0.416367</td>\n",
       "      <td>0.309090</td>\n",
       "      <td>1.000000</td>\n",
       "      <td>0.224675</td>\n",
       "      <td>0.300238</td>\n",
       "      <td>0.350945</td>\n",
       "      <td>0.435761</td>\n",
       "      <td>0.511789</td>\n",
       "      <td>0.499788</td>\n",
       "      <td>0.496770</td>\n",
       "    </tr>\n",
       "    <tr>\n",
       "      <th>EBAY_R</th>\n",
       "      <td>0.176198</td>\n",
       "      <td>0.148414</td>\n",
       "      <td>0.224675</td>\n",
       "      <td>1.000000</td>\n",
       "      <td>0.092791</td>\n",
       "      <td>0.248785</td>\n",
       "      <td>0.204088</td>\n",
       "      <td>0.224224</td>\n",
       "      <td>0.235872</td>\n",
       "      <td>0.256084</td>\n",
       "    </tr>\n",
       "    <tr>\n",
       "      <th>FB_R</th>\n",
       "      <td>0.465836</td>\n",
       "      <td>0.559301</td>\n",
       "      <td>0.300238</td>\n",
       "      <td>0.092791</td>\n",
       "      <td>1.000000</td>\n",
       "      <td>0.603077</td>\n",
       "      <td>0.269136</td>\n",
       "      <td>0.366426</td>\n",
       "      <td>0.496681</td>\n",
       "      <td>0.356962</td>\n",
       "    </tr>\n",
       "    <tr>\n",
       "      <th>GOOG_R</th>\n",
       "      <td>0.421804</td>\n",
       "      <td>0.599161</td>\n",
       "      <td>0.350945</td>\n",
       "      <td>0.248785</td>\n",
       "      <td>0.603077</td>\n",
       "      <td>1.000000</td>\n",
       "      <td>0.334792</td>\n",
       "      <td>0.367460</td>\n",
       "      <td>0.586468</td>\n",
       "      <td>0.357760</td>\n",
       "    </tr>\n",
       "    <tr>\n",
       "      <th>IBM_R</th>\n",
       "      <td>0.321409</td>\n",
       "      <td>0.232046</td>\n",
       "      <td>0.435761</td>\n",
       "      <td>0.204088</td>\n",
       "      <td>0.269136</td>\n",
       "      <td>0.334792</td>\n",
       "      <td>1.000000</td>\n",
       "      <td>0.438442</td>\n",
       "      <td>0.416349</td>\n",
       "      <td>0.498894</td>\n",
       "    </tr>\n",
       "    <tr>\n",
       "      <th>INTC_R</th>\n",
       "      <td>0.425079</td>\n",
       "      <td>0.303422</td>\n",
       "      <td>0.511789</td>\n",
       "      <td>0.224224</td>\n",
       "      <td>0.366426</td>\n",
       "      <td>0.367460</td>\n",
       "      <td>0.438442</td>\n",
       "      <td>1.000000</td>\n",
       "      <td>0.555015</td>\n",
       "      <td>0.447199</td>\n",
       "    </tr>\n",
       "    <tr>\n",
       "      <th>MSFT_R</th>\n",
       "      <td>0.495491</td>\n",
       "      <td>0.528767</td>\n",
       "      <td>0.499788</td>\n",
       "      <td>0.235872</td>\n",
       "      <td>0.496681</td>\n",
       "      <td>0.586468</td>\n",
       "      <td>0.416349</td>\n",
       "      <td>0.555015</td>\n",
       "      <td>1.000000</td>\n",
       "      <td>0.493768</td>\n",
       "    </tr>\n",
       "    <tr>\n",
       "      <th>ORCL_R</th>\n",
       "      <td>0.392465</td>\n",
       "      <td>0.297432</td>\n",
       "      <td>0.496770</td>\n",
       "      <td>0.256084</td>\n",
       "      <td>0.356962</td>\n",
       "      <td>0.357760</td>\n",
       "      <td>0.498894</td>\n",
       "      <td>0.447199</td>\n",
       "      <td>0.493768</td>\n",
       "      <td>1.000000</td>\n",
       "    </tr>\n",
       "  </tbody>\n",
       "</table>\n",
       "</div>"
      ],
      "text/plain": [
       "          AAPL_R    AMZN_R    CSCO_R    EBAY_R      FB_R    GOOG_R     IBM_R  \\\n",
       "AAPL_R  1.000000  0.384333  0.416367  0.176198  0.465836  0.421804  0.321409   \n",
       "AMZN_R  0.384333  1.000000  0.309090  0.148414  0.559301  0.599161  0.232046   \n",
       "CSCO_R  0.416367  0.309090  1.000000  0.224675  0.300238  0.350945  0.435761   \n",
       "EBAY_R  0.176198  0.148414  0.224675  1.000000  0.092791  0.248785  0.204088   \n",
       "FB_R    0.465836  0.559301  0.300238  0.092791  1.000000  0.603077  0.269136   \n",
       "GOOG_R  0.421804  0.599161  0.350945  0.248785  0.603077  1.000000  0.334792   \n",
       "IBM_R   0.321409  0.232046  0.435761  0.204088  0.269136  0.334792  1.000000   \n",
       "INTC_R  0.425079  0.303422  0.511789  0.224224  0.366426  0.367460  0.438442   \n",
       "MSFT_R  0.495491  0.528767  0.499788  0.235872  0.496681  0.586468  0.416349   \n",
       "ORCL_R  0.392465  0.297432  0.496770  0.256084  0.356962  0.357760  0.498894   \n",
       "\n",
       "          INTC_R    MSFT_R    ORCL_R  \n",
       "AAPL_R  0.425079  0.495491  0.392465  \n",
       "AMZN_R  0.303422  0.528767  0.297432  \n",
       "CSCO_R  0.511789  0.499788  0.496770  \n",
       "EBAY_R  0.224224  0.235872  0.256084  \n",
       "FB_R    0.366426  0.496681  0.356962  \n",
       "GOOG_R  0.367460  0.586468  0.357760  \n",
       "IBM_R   0.438442  0.416349  0.498894  \n",
       "INTC_R  1.000000  0.555015  0.447199  \n",
       "MSFT_R  0.555015  1.000000  0.493768  \n",
       "ORCL_R  0.447199  0.493768  1.000000  "
      ]
     },
     "execution_count": 51,
     "metadata": {},
     "output_type": "execute_result"
    }
   ],
   "source": [
    "returns_correlation"
   ]
  },
  {
   "cell_type": "code",
   "execution_count": 57,
   "metadata": {},
   "outputs": [
    {
     "data": {
      "text/plain": [
       "<matplotlib.axes._subplots.AxesSubplot at 0x1a1f4cce10>"
      ]
     },
     "execution_count": 57,
     "metadata": {},
     "output_type": "execute_result"
    },
    {
     "data": {
      "image/png": "[encoded data removed]",
      "text/plain": [
       "<Figure size 432x432 with 2 Axes>"
      ]
     },
     "metadata": {
      "needs_background": "light"
     },
     "output_type": "display_data"
    }
   ],
   "source": [
    "# correlation heatmap\n",
    "plt.figure(figsize=(6,6))\n",
    "sns.heatmap(returns_correlation)"
   ]
  },
  {
   "cell_type": "markdown",
   "metadata": {},
   "source": [
    "**Comments:\n",
    "From the heat map, Microsoft seems to have the most light color blocks. Microsoft tends to be the most correlated firm with others.**"
   ]
  },
  {
   "cell_type": "markdown",
   "metadata": {},
   "source": [
    "# Good Luck!"
   ]
  }
 ],
 "metadata": {
  "kernelspec": {
   "display_name": "Python 3",
   "language": "python",
   "name": "python3"
  },
  "language_info": {
   "codemirror_mode": {
    "name": "ipython",
    "version": 3
   },
   "file_extension": ".py",
   "mimetype": "text/x-python",
   "name": "python",
   "nbconvert_exporter": "python",
   "pygments_lexer": "ipython3",
   "version": "3.7.1"
  }
 },
 "nbformat": 4,
 "nbformat_minor": 2
}
